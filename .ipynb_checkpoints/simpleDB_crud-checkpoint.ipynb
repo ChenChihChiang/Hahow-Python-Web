{
 "cells": [
  {
   "cell_type": "code",
   "execution_count": 22,
   "metadata": {
    "collapsed": false
   },
   "outputs": [
    {
     "name": "stdout",
     "output_type": "stream",
     "text": [
      "[('2', 'John')]\n"
     ]
    }
   ],
   "source": [
    "import sqlite3\n",
    "\n",
    "\n",
    "path = '/Users/chihchiang/how/simpleDB/simpleDB.sqlite'\n",
    "conn = sqlite3.connect(path)\n",
    "\n",
    "cursor = conn.cursor()\n",
    "\n",
    "\n",
    "#sqlstr = 'INSERT INTO user (\"id\", \"username\") VALUES (\"2\",\"John\")'\n",
    "#sqlstr = 'UPDATE user SET username=\"Jack\" WHERE username=\"Leo\"'\n",
    "sqlstr = 'DELETE FROM user WHERE username=\"Jack\"'\n",
    "\n",
    "sqlstr1 = 'SELECT * FROM user'\n",
    "\n",
    "cursor.execute(sqlstr)\n",
    "\n",
    "cursor.execute(sqlstr1)\n",
    "rows = cursor.fetchall()\n",
    "\n",
    "print(rows)\n",
    "\n",
    "conn.commit()\n",
    "conn.close()"
   ]
  },
  {
   "cell_type": "code",
   "execution_count": null,
   "metadata": {
    "collapsed": true
   },
   "outputs": [],
   "source": []
  },
  {
   "cell_type": "code",
   "execution_count": null,
   "metadata": {
    "collapsed": true
   },
   "outputs": [],
   "source": []
  },
  {
   "cell_type": "code",
   "execution_count": null,
   "metadata": {
    "collapsed": true
   },
   "outputs": [],
   "source": []
  }
 ],
 "metadata": {
  "kernelspec": {
   "display_name": "Python 3",
   "language": "python",
   "name": "python3"
  },
  "language_info": {
   "codemirror_mode": {
    "name": "ipython",
    "version": 3
   },
   "file_extension": ".py",
   "mimetype": "text/x-python",
   "name": "python",
   "nbconvert_exporter": "python",
   "pygments_lexer": "ipython3",
   "version": "3.6.0"
  }
 },
 "nbformat": 4,
 "nbformat_minor": 2
}
